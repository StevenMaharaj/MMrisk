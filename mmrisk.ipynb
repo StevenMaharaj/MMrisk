{
 "cells": [
  {
   "cell_type": "code",
   "execution_count": 2,
   "metadata": {
    "tags": []
   },
   "outputs": [],
   "source": [
    "\n",
    "import numpy as np\n",
    "import pandas as pd\n",
    "\n"
   ]
  },
  {
   "cell_type": "code",
   "execution_count": 38,
   "metadata": {
    "tags": []
   },
   "outputs": [
    {
     "data": {
      "text/plain": [
       "1000"
      ]
     },
     "execution_count": 38,
     "metadata": {},
     "output_type": "execute_result"
    }
   ],
   "source": [
    "p0 = 1000 # starting price\n",
    "plb = 900 # price lower bound\n",
    "pub = 1100 # price upper bound\n",
    "\n",
    "\n",
    "spd_pct = 0.01\n",
    "\n",
    "spd = p0 * spd_pct/100\n",
    "\n",
    "fee = 0.03\n",
    "\n",
    "price_lvls_down = np.arange(p0,pub ,spd) + spd\n",
    "n_lvls = len(price_lvls_down)\n",
    "n_lvls"
   ]
  },
  {
   "cell_type": "code",
   "execution_count": 42,
   "metadata": {
    "tags": []
   },
   "outputs": [
    {
     "data": {
      "text/html": [
       "<div>\n",
       "<style scoped>\n",
       "    .dataframe tbody tr th:only-of-type {\n",
       "        vertical-align: middle;\n",
       "    }\n",
       "\n",
       "    .dataframe tbody tr th {\n",
       "        vertical-align: top;\n",
       "    }\n",
       "\n",
       "    .dataframe thead th {\n",
       "        text-align: right;\n",
       "    }\n",
       "</style>\n",
       "<table border=\"1\" class=\"dataframe\">\n",
       "  <thead>\n",
       "    <tr style=\"text-align: right;\">\n",
       "      <th></th>\n",
       "      <th>lvl</th>\n",
       "      <th>mv %</th>\n",
       "      <th>risk</th>\n",
       "      <th>risk_fee</th>\n",
       "      <th>BE_TPs</th>\n",
       "      <th>BE_TPs_fee</th>\n",
       "    </tr>\n",
       "  </thead>\n",
       "  <tbody>\n",
       "    <tr>\n",
       "      <th>0</th>\n",
       "      <td>1000.1</td>\n",
       "      <td>1</td>\n",
       "      <td>0.1</td>\n",
       "      <td>0.16</td>\n",
       "      <td>1</td>\n",
       "      <td>2</td>\n",
       "    </tr>\n",
       "    <tr>\n",
       "      <th>1</th>\n",
       "      <td>1000.2</td>\n",
       "      <td>2</td>\n",
       "      <td>0.3</td>\n",
       "      <td>0.42</td>\n",
       "      <td>3</td>\n",
       "      <td>5</td>\n",
       "    </tr>\n",
       "    <tr>\n",
       "      <th>2</th>\n",
       "      <td>1000.3</td>\n",
       "      <td>3</td>\n",
       "      <td>0.6</td>\n",
       "      <td>0.78</td>\n",
       "      <td>6</td>\n",
       "      <td>8</td>\n",
       "    </tr>\n",
       "    <tr>\n",
       "      <th>3</th>\n",
       "      <td>1000.4</td>\n",
       "      <td>4</td>\n",
       "      <td>1.0</td>\n",
       "      <td>1.24</td>\n",
       "      <td>10</td>\n",
       "      <td>13</td>\n",
       "    </tr>\n",
       "    <tr>\n",
       "      <th>4</th>\n",
       "      <td>1000.5</td>\n",
       "      <td>5</td>\n",
       "      <td>1.5</td>\n",
       "      <td>1.80</td>\n",
       "      <td>15</td>\n",
       "      <td>19</td>\n",
       "    </tr>\n",
       "    <tr>\n",
       "      <th>...</th>\n",
       "      <td>...</td>\n",
       "      <td>...</td>\n",
       "      <td>...</td>\n",
       "      <td>...</td>\n",
       "      <td>...</td>\n",
       "      <td>...</td>\n",
       "    </tr>\n",
       "    <tr>\n",
       "      <th>995</th>\n",
       "      <td>1099.6</td>\n",
       "      <td>996</td>\n",
       "      <td>49650.6</td>\n",
       "      <td>49710.36</td>\n",
       "      <td>496506</td>\n",
       "      <td>497104</td>\n",
       "    </tr>\n",
       "    <tr>\n",
       "      <th>996</th>\n",
       "      <td>1099.7</td>\n",
       "      <td>997</td>\n",
       "      <td>49750.3</td>\n",
       "      <td>49810.12</td>\n",
       "      <td>497503</td>\n",
       "      <td>498102</td>\n",
       "    </tr>\n",
       "    <tr>\n",
       "      <th>997</th>\n",
       "      <td>1099.8</td>\n",
       "      <td>998</td>\n",
       "      <td>49850.1</td>\n",
       "      <td>49909.98</td>\n",
       "      <td>498501</td>\n",
       "      <td>499100</td>\n",
       "    </tr>\n",
       "    <tr>\n",
       "      <th>998</th>\n",
       "      <td>1099.9</td>\n",
       "      <td>999</td>\n",
       "      <td>49950.0</td>\n",
       "      <td>50009.94</td>\n",
       "      <td>499500</td>\n",
       "      <td>500100</td>\n",
       "    </tr>\n",
       "    <tr>\n",
       "      <th>999</th>\n",
       "      <td>1100.0</td>\n",
       "      <td>1000</td>\n",
       "      <td>50050.0</td>\n",
       "      <td>50110.00</td>\n",
       "      <td>500500</td>\n",
       "      <td>501101</td>\n",
       "    </tr>\n",
       "  </tbody>\n",
       "</table>\n",
       "<p>1000 rows × 6 columns</p>\n",
       "</div>"
      ],
      "text/plain": [
       "        lvl  mv %     risk  risk_fee  BE_TPs  BE_TPs_fee\n",
       "0    1000.1     1      0.1      0.16       1           2\n",
       "1    1000.2     2      0.3      0.42       3           5\n",
       "2    1000.3     3      0.6      0.78       6           8\n",
       "3    1000.4     4      1.0      1.24      10          13\n",
       "4    1000.5     5      1.5      1.80      15          19\n",
       "..      ...   ...      ...       ...     ...         ...\n",
       "995  1099.6   996  49650.6  49710.36  496506      497104\n",
       "996  1099.7   997  49750.3  49810.12  497503      498102\n",
       "997  1099.8   998  49850.1  49909.98  498501      499100\n",
       "998  1099.9   999  49950.0  50009.94  499500      500100\n",
       "999  1100.0  1000  50050.0  50110.00  500500      501101\n",
       "\n",
       "[1000 rows x 6 columns]"
      ]
     },
     "execution_count": 42,
     "metadata": {},
     "output_type": "execute_result"
    }
   ],
   "source": [
    "Risk = pd.DataFrame()\n",
    "\n",
    "Fee =  np.array([fee] * n_lvls)\n",
    "\n",
    "Risk['lvl'] = price_lvls_down\n",
    "Risk['mv %'] = (np.arange(0,n_lvls) + 1.0)*spd_pct*100\n",
    "Risk['mv %'] = Risk['mv %'].astype(int)\n",
    "Risk[\"risk\"] = (Risk['lvl'] - p0).cumsum()\n",
    "Risk[\"risk_fee\"] = (Risk['lvl'] - p0 + 2 * Fee).cumsum()\n",
    "\n",
    "Risk[\"BE_TPs\"] = (Risk['risk'] / spd).astype(int) \n",
    "Risk[\"BE_TPs_fee\"] = (Risk['risk_fee'] / spd).astype(int) + 1 \n",
    "Risk"
   ]
  },
  {
   "cell_type": "code",
   "execution_count": null,
   "metadata": {},
   "outputs": [],
   "source": []
  },
  {
   "cell_type": "code",
   "execution_count": null,
   "metadata": {},
   "outputs": [],
   "source": []
  }
 ],
 "metadata": {
  "kernelspec": {
   "display_name": "Python 3 (ipykernel)",
   "language": "python",
   "name": "python3"
  },
  "language_info": {
   "codemirror_mode": {
    "name": "ipython",
    "version": 3
   },
   "file_extension": ".py",
   "mimetype": "text/x-python",
   "name": "python",
   "nbconvert_exporter": "python",
   "pygments_lexer": "ipython3",
   "version": "3.11.3"
  }
 },
 "nbformat": 4,
 "nbformat_minor": 4
}
